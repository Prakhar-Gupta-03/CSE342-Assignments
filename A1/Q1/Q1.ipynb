{
 "cells": [
  {
   "cell_type": "code",
   "execution_count": 2,
   "metadata": {},
   "outputs": [
    {
     "name": "stdout",
     "output_type": "stream",
     "text": [
      "(600, 784)\n",
      "Rows:  600\n",
      "Columns:  784\n"
     ]
    }
   ],
   "source": [
    "from PIL import Image\n",
    "import csv\n",
    "import numpy as np\n",
    "import os\n",
    "\n",
    "#compute the number of colums in the training data\n",
    "data = []\n",
    "with open('trainingSample.csv','r') as f:\n",
    "    csv_reader = csv.reader(f)\n",
    "    for line in csv_reader:\n",
    "        if (line!=[]):\n",
    "            row_data = []\n",
    "            for i in line:\n",
    "                row_data.append(float(i))\n",
    "            data.append(row_data)\n",
    "\n",
    "data = np.array(data)\n",
    "# num_of_cols = data.shape[1]\n",
    "# sum_of_cols = np.zeros(num_of_cols)\n",
    "# for i in range(num_of_cols):\n",
    "#     sum_of_cols[i] = np.sum(data[:,i])\n",
    "# mean_of_cols = sum_of_cols/num_of_cols\n",
    "# for i in range(num_of_cols):\n",
    "#     data[:,i] = data[:,i] - mean_of_cols[i]\n",
    "# variance_of_cols = np.zeros(num_of_cols)\n",
    "# for i in range(num_of_cols):\n",
    "#     variance_of_cols[i] += np.sum(data[:,i]**2)\n",
    "# for i in range(num_of_cols):\n",
    "#     data[:,i] = data[:,i]/variance_of_cols[i]\n",
    "# print(data)\n",
    "#standardize the training data\n",
    "#standard deviation of every column\n",
    "num_of_cols = data.shape[1]\n",
    "sum_of_cols = np.zeros(num_of_cols)\n",
    "squares_of_cols = np.zeros(num_of_cols)\n",
    "for i in range(num_of_cols):\n",
    "    for j in range(data.shape[0]):\n",
    "        sum_of_cols[i] += data[j,i]\n",
    "        squares_of_cols[i] += data[j,i]**2\n",
    "mean_of_cols = sum_of_cols/num_of_cols\n",
    "variance_of_cols = (squares_of_cols/num_of_cols) - mean_of_cols**2\n",
    "standard_deviation_of_cols = np.sqrt(variance_of_cols)\n",
    "for i in range(num_of_cols):\n",
    "    if (standard_deviation_of_cols[i]>0):\n",
    "        data[:,i]=((data[:,i] - mean_of_cols[i])/standard_deviation_of_cols[i])\n",
    "    else:\n",
    "        data[:,i] = 0\n",
    "# print(data)   \n",
    "#data is in standard form now\n",
    "#compute the covariance matrix\n",
    "print(data.shape)\n",
    "print(\"Rows: \",data.shape[0])\n",
    "print(\"Columns: \",data.shape[1])\n",
    "covariance_matrix = np.full((num_of_cols,num_of_cols),0)\n",
    "# covariance_matrix = np.zeros((num_of_cols,num_of_cols))\n",
    "# for i in range(num_of_cols):\n",
    "#     for j in range(num_of_cols):\n",
    "#         covariance_matrix[i,j] = np.sum(data[:,i]*data[:,j])\n",
    "# covariance_matrix = covariance_matrix/num_of_cols\n",
    "# print(covariance_matrix)\n",
    "for i in range(num_of_cols):\n",
    "    for j in range(num_of_cols):\n",
    "        covariance_matrix[i,j] = np.sum(data[:,i]*data[:,j])\n",
    "covariance_matrix = covariance_matrix/num_of_cols\n"
   ]
  },
  {
   "cell_type": "code",
   "execution_count": 12,
   "metadata": {},
   "outputs": [
    {
     "name": "stdout",
     "output_type": "stream",
     "text": [
      "784\n",
      "784\n"
     ]
    }
   ],
   "source": [
    "eigen_values,eigen_vectors = np.linalg.eig(covariance_matrix)\n",
    "print(len(eigen_values))\n",
    "print(len(eigen_vectors))\n",
    "vector1 = eigen_vectors\n",
    "# result = np.matmul(data,eigen_vectors[:,0:3])\n",
    "# print(result)\n",
    "# print(eigen_values)\n",
    "# print(eigen_vectors)\n",
    "# index = np.argsort(eigen_values)\n",
    "# eigen_values = eigen_values[index]\n",
    "# eigen_vectors = eigen_vectors[:,index]\n",
    "# eigen_values = eigen_values[::-1]\n",
    "# eigen_vectors = eigen_vectors[:,::-1]\n",
    "\n",
    "# #now we choose the first k eigen vectors\n",
    "# num_of_PCs = 3\n",
    "# eigen_vectors = eigen_vectors[:,0:num_of_PCs]\n",
    "# eigen_values = eigen_values[0:num_of_PCs]\n",
    "# # print(eigen_values)\n",
    "# # for vector in eigen_vectors:\n",
    "# #     print(vector)\n",
    "# # make a new matrix with the first k eigen vectors\n",
    "# eigen_vectors_matrix = np.zeros((data.shape[0],num_of_PCs))\n",
    "# for i in range(num_of_PCs):\n",
    "#     eigen_vectors_matrix[:,i] = data[:,i]\n",
    "# print(eigen_vectors_matrix)\n",
    "\n",
    "\n"
   ]
  }
 ],
 "metadata": {
  "kernelspec": {
   "display_name": "Python 3",
   "language": "python",
   "name": "python3"
  },
  "language_info": {
   "codemirror_mode": {
    "name": "ipython",
    "version": 3
   },
   "file_extension": ".py",
   "mimetype": "text/x-python",
   "name": "python",
   "nbconvert_exporter": "python",
   "pygments_lexer": "ipython3",
   "version": "3.10.1"
  },
  "orig_nbformat": 4,
  "vscode": {
   "interpreter": {
    "hash": "0ec8ca227564ffe9d14a3c90a2771827d0eeebe06703dfd8999d2c1dbb8a3e89"
   }
  }
 },
 "nbformat": 4,
 "nbformat_minor": 2
}

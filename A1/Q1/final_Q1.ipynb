{
 "cells": [
  {
   "cell_type": "code",
   "execution_count": 2,
   "metadata": {},
   "outputs": [],
   "source": [
    "from PIL import Image\n",
    "import csv\n",
    "import numpy as np\n",
    "import os"
   ]
  },
  {
   "cell_type": "code",
   "execution_count": 2,
   "metadata": {},
   "outputs": [],
   "source": [
    "#extract all the training data from the folders one after the other and save it into a csv file\n",
    "# for folderNumber in range(10):\n",
    "#     path = 'archive/trainingSet/trainingSet/' + str(folderNumber) + '/'\n",
    "#     for filename in os.listdir(path):\n",
    "#         img = Image.open(path+filename)\n",
    "#         array = np.array(img).flatten()\n",
    "#         with open('trainingSet.csv','a') as f:\n",
    "#             csv_writer = csv.writer(f)\n",
    "#             csv_writer.writerow(array)"
   ]
  },
  {
   "cell_type": "code",
   "execution_count": 3,
   "metadata": {},
   "outputs": [],
   "source": [
    "data = []\n",
    "with open('trainingSample.csv','r') as f:\n",
    "    csv_reader = csv.reader(f)\n",
    "    for line in csv_reader:\n",
    "        if (line!=[]):\n",
    "            row_data = []\n",
    "            for i in line:\n",
    "                row_data.append(float(i))\n",
    "            data.append(row_data)\n",
    "\n",
    "data = np.array(data)"
   ]
  },
  {
   "cell_type": "code",
   "execution_count": 4,
   "metadata": {},
   "outputs": [],
   "source": [
    "#standardize the training data\n",
    "#standard deviation of every column\n",
    "num_of_cols = data.shape[1]\n",
    "sum_of_cols = np.zeros(num_of_cols)\n",
    "squares_of_cols = np.zeros(num_of_cols)\n",
    "for i in range(num_of_cols):\n",
    "    for j in range(data.shape[0]):\n",
    "        sum_of_cols[i] += data[j,i]\n",
    "        squares_of_cols[i] += data[j,i]**2\n",
    "mean_of_cols = sum_of_cols/len(data)\n",
    "variance_of_cols = (squares_of_cols/num_of_cols) - mean_of_cols**2\n",
    "standard_deviation_of_cols = np.sqrt(variance_of_cols)\n",
    "for i in range(num_of_cols):\n",
    "    if (standard_deviation_of_cols[i]>0):\n",
    "        data[:,i]=((data[:,i] - mean_of_cols[i])/standard_deviation_of_cols[i])\n",
    "    else:\n",
    "        data[:,i] = 0"
   ]
  },
  {
   "cell_type": "code",
   "execution_count": 5,
   "metadata": {},
   "outputs": [
    {
     "name": "stdout",
     "output_type": "stream",
     "text": [
      "(600, 784)\n",
      "Rows:  600\n",
      "Columns:  784\n"
     ]
    }
   ],
   "source": [
    "#compute the covariance matrix\n",
    "print(data.shape)\n",
    "print(\"Rows: \",data.shape[0])\n",
    "print(\"Columns: \",data.shape[1])\n",
    "covariance_matrix = np.full((num_of_cols,num_of_cols),0)"
   ]
  },
  {
   "cell_type": "code",
   "execution_count": 6,
   "metadata": {},
   "outputs": [],
   "source": [
    "for i in range(num_of_cols):\n",
    "    for j in range(num_of_cols):\n",
    "        covariance_matrix[i,j] = np.sum(data[:,i]*data[:,j])\n",
    "covariance_matrix = covariance_matrix/num_of_cols"
   ]
  },
  {
   "cell_type": "code",
   "execution_count": null,
   "metadata": {},
   "outputs": [],
   "source": []
  }
 ],
 "metadata": {
  "kernelspec": {
   "display_name": "Python 3",
   "language": "python",
   "name": "python3"
  },
  "language_info": {
   "codemirror_mode": {
    "name": "ipython",
    "version": 3
   },
   "file_extension": ".py",
   "mimetype": "text/x-python",
   "name": "python",
   "nbconvert_exporter": "python",
   "pygments_lexer": "ipython3",
   "version": "3.10.1"
  },
  "orig_nbformat": 4,
  "vscode": {
   "interpreter": {
    "hash": "0ec8ca227564ffe9d14a3c90a2771827d0eeebe06703dfd8999d2c1dbb8a3e89"
   }
  }
 },
 "nbformat": 4,
 "nbformat_minor": 2
}

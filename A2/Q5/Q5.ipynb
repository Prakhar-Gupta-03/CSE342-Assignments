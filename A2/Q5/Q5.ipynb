{
 "cells": [
  {
   "attachments": {},
   "cell_type": "markdown",
   "metadata": {},
   "source": [
    "### Logistic Regression for Multi-class classification problem"
   ]
  },
  {
   "cell_type": "code",
   "execution_count": 453,
   "metadata": {},
   "outputs": [],
   "source": [
    "import numpy as np\n",
    "import pandas as pd\n",
    "import matplotlib.pyplot as plt\n",
    "from sklearn.model_selection import train_test_split\n",
    "\n",
    "# Load the data\n",
    "data = pd.read_csv('iris.csv')\n",
    "# drop the first column\n",
    "data = data.drop(data.columns[0], axis=1)\n",
    "# converting the data into numpy array\n",
    "data = data.values\n",
    "# converting the string labels into numbers\n",
    "for i in range(data.shape[0]):\n",
    "    if data[i,4] == 'Iris-setosa':\n",
    "        data[i,4] = 0\n",
    "    elif data[i,4] == 'Iris-versicolor':\n",
    "        data[i,4] = 1\n",
    "    else:\n",
    "        data[i,4] = 2\n",
    "# splitting the data into features and labels\n",
    "X_train, X_test, Y_train, Y_test = train_test_split(data[:,0:4], data[:,4], test_size=0.2, random_state=0, stratify=data[:,4])"
   ]
  },
  {
   "cell_type": "code",
   "execution_count": 454,
   "metadata": {},
   "outputs": [],
   "source": [
    "# converting the data into float64 and int32 types only to avoid future errors\n",
    "X_train = X_train.astype(np.float64)\n",
    "X_test = X_test.astype(np.float64)\n",
    "Y_train = Y_train.astype(np.int32)\n",
    "Y_test = Y_test.astype(np.int32)"
   ]
  },
  {
   "cell_type": "code",
   "execution_count": 455,
   "metadata": {},
   "outputs": [],
   "source": [
    "# Define the sigmoid function\n",
    "def sigmoid(z):\n",
    "    z = -z\n",
    "    exponential = np.exp(z)\n",
    "    return 1/(1+exponential)"
   ]
  },
  {
   "cell_type": "code",
   "execution_count": 456,
   "metadata": {},
   "outputs": [],
   "source": [
    "# Define the combine function\n",
    "def combine(X,weights, constant_weight):\n",
    "    result = np.dot(X, weights)\n",
    "    result = result + constant_weight\n",
    "    return result"
   ]
  },
  {
   "cell_type": "code",
   "execution_count": 457,
   "metadata": {},
   "outputs": [],
   "source": [
    "# Define the logistic regression function\n",
    "def logistic_regression(X_train, Y_train, learning_rate, no_of_iterations):\n",
    "    # add a column of ones to X_train and X_test to account for the constant weight\n",
    "    X_train = np.hstack((np.ones((X_train.shape[0],1)),X_train))\n",
    "    # initialising the weight vector of the dimension of the number of features\n",
    "    weights = np.zeros((X_train.shape[1],1))\n",
    "    # previous weights to check for convergence, if the difference between the current and previous weights is less than 1e-4, then the algorithm has converged\n",
    "    prev_weights = np.zeros((X_train.shape[1],1))\n",
    "    for i in range(no_of_iterations):\n",
    "        # computing the z_value for the current weights and its logistic value\n",
    "        z_value = combine(X_train, weights, 0)\n",
    "        # changing the values of z_value to the a probability value\n",
    "        Y_predicted = sigmoid(z_value)\n",
    "        # converting the predicted values into 0 and 1 \n",
    "        Y_predicted[Y_predicted >= 0.5] = 1\n",
    "        Y_predicted[Y_predicted < 0.5] = 0\n",
    "        # computing the error\n",
    "        error = Y_predicted - Y_train.reshape(Y_train.shape[0],1)\n",
    "        # computing the gradient\n",
    "        gradient = X_train.T.dot(error)\n",
    "        # assign the current weights to the previous weights\n",
    "        prev_weights = weights\n",
    "        # updating the weights\n",
    "        weights = weights - learning_rate * gradient/X_train.shape[0]\n",
    "        # checking for convergence\n",
    "        if np.linalg.norm(weights - prev_weights) < 1e-4:\n",
    "            break\n",
    "    return weights"
   ]
  },
  {
   "cell_type": "code",
   "execution_count": 458,
   "metadata": {},
   "outputs": [],
   "source": [
    "# all the labels in the dataset\n",
    "labels = np.unique(Y_train)\n",
    "# stores all the weights for the 3 logistic regression models corresponding to the 3 labels\n",
    "all_weights = np.zeros((len(labels), X_train.shape[1]))\n",
    "all_constant_weight = np.zeros(len(labels))\n",
    "# training the 3 logistic regression models\n",
    "for i in range(len(labels)):\n",
    "    Y_train_binary = np.zeros((Y_train.shape[0], 1))\n",
    "    Y_train_binary[Y_train == labels[i]] = 1\n",
    "    # performing logistic regression for each label \n",
    "    weights = logistic_regression(X_train, Y_train_binary, 0.01, 1000)\n",
    "    all_weights[i] = weights[1:].T\n",
    "    all_constant_weight[i] = weights[0]"
   ]
  },
  {
   "cell_type": "code",
   "execution_count": 459,
   "metadata": {},
   "outputs": [],
   "source": [
    "# Predicting the result for the test data using the weights from the logistic regression function \n",
    "z_value = combine(X_test, all_weights.T, all_constant_weight)\n",
    "# converting the z_value into probabilities\n",
    "Y_predicted = sigmoid(z_value)\n",
    "# the class with the highest probability is the predicted class\n",
    "Y_predicted = np.argmax(Y_predicted, axis=1)"
   ]
  },
  {
   "cell_type": "code",
   "execution_count": 460,
   "metadata": {},
   "outputs": [
    {
     "name": "stdout",
     "output_type": "stream",
     "text": [
      "Accuracy of the model on the test data is:  90.0 %\n"
     ]
    }
   ],
   "source": [
    "# Compute the accuracy\n",
    "count = 0\n",
    "for i in range(Y_predicted.shape[0]):\n",
    "    if Y_predicted[i] == Y_test[i]:\n",
    "        count += 1\n",
    "accuracy = count/Y_predicted.shape[0]*100\n",
    "print('Accuracy of the model on the test data is: ', accuracy, '%')"
   ]
  }
 ],
 "metadata": {
  "kernelspec": {
   "display_name": "Python 3",
   "language": "python",
   "name": "python3"
  },
  "language_info": {
   "codemirror_mode": {
    "name": "ipython",
    "version": 3
   },
   "file_extension": ".py",
   "mimetype": "text/x-python",
   "name": "python",
   "nbconvert_exporter": "python",
   "pygments_lexer": "ipython3",
   "version": "3.10.1"
  },
  "orig_nbformat": 4
 },
 "nbformat": 4,
 "nbformat_minor": 2
}

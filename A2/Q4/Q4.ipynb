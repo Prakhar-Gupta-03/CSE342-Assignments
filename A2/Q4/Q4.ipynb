{
 "cells": [
  {
   "attachments": {},
   "cell_type": "markdown",
   "metadata": {},
   "source": [
    "### LDA before k Nearest Neighbor as a pre-processing step"
   ]
  },
  {
   "cell_type": "code",
   "execution_count": 1,
   "metadata": {},
   "outputs": [],
   "source": [
    "# Performing the k-nearest neighbor algorithm on the iris dataset along with the preprocessing of the data using the linear discriminant analysis\n",
    "\n",
    "import numpy as np\n",
    "import pandas as pd\n",
    "from sklearn.model_selection import train_test_split\n",
    "\n",
    "# loading the dataset\n",
    "data = pd.read_csv('iris.csv')\n",
    "# converting the data into numpy array\n",
    "data = data.values\n",
    "# remove the first column of the data\n",
    "data = data[:,1:]\n",
    "# converting the string labels into integers\n",
    "for i in range(data.shape[0]):\n",
    "    if data[i,4] == 'Iris-setosa':\n",
    "        data[i,4] = 0\n",
    "    elif data[i,4] == 'Iris-versicolor':\n",
    "        data[i,4] = 1\n",
    "    else:\n",
    "        data[i,4] = 2\n",
    "# splitting the data into training and testing data\n",
    "X_train, X_test, Y_train, Y_test = train_test_split(data[:,0:4], data[:,4], test_size=0.2, random_state=42, stratify=data[:,4])"
   ]
  },
  {
   "cell_type": "code",
   "execution_count": 2,
   "metadata": {},
   "outputs": [],
   "source": [
    "# separate the data for each class\n",
    "mean_classes = np.zeros((3,4))\n",
    "# finding the mean of each class\n",
    "for i in range(3):\n",
    "    # finding the mean of the class i\n",
    "    mean_classes[i] = np.mean(X_train[Y_train[:] == i], axis=0)\n",
    "# overall mean of the data\n",
    "mean_overall = np.mean(X_train, axis=0)"
   ]
  },
  {
   "cell_type": "code",
   "execution_count": 3,
   "metadata": {},
   "outputs": [],
   "source": [
    "# computing the within class scatter matrix for the training data\n",
    "# declare the within class scatter matrix\n",
    "within_class_scatter_matrix = np.zeros((4,4))\n",
    "for i in range(3):\n",
    "    within_class_scatter_matrix_i = np.zeros((4, 4))\n",
    "    for j in range(X_train.shape[0]):\n",
    "        if Y_train[j] == i:\n",
    "            x = X_train[j]\n",
    "            mean = mean_classes[i]\n",
    "            within_class_scatter_matrix_i = within_class_scatter_matrix_i + (x - mean).reshape(-1, 1).dot((x - mean).reshape(1, -1))\n",
    "    within_class_scatter_matrix = within_class_scatter_matrix + within_class_scatter_matrix_i"
   ]
  },
  {
   "cell_type": "code",
   "execution_count": 4,
   "metadata": {},
   "outputs": [],
   "source": [
    "# declare the between class scatter matrix\n",
    "between_class_scatter_matrix = np.zeros((4,4))\n",
    "for i in range(3):\n",
    "    n = X_train[Y_train[:] == i].shape[0]\n",
    "    mean = mean_classes[i]\n",
    "    between_class_scatter_matrix = between_class_scatter_matrix + n * (mean - mean_overall).reshape(-1, 1).dot((mean - mean_overall).reshape(1, -1))\n"
   ]
  },
  {
   "cell_type": "code",
   "execution_count": 5,
   "metadata": {},
   "outputs": [],
   "source": [
    "# converting the matrices from float to float64\n",
    "within_class_scatter_matrix = np.array(within_class_scatter_matrix, dtype='float64')\n",
    "between_class_scatter_matrix = np.array(between_class_scatter_matrix, dtype='float64')"
   ]
  },
  {
   "cell_type": "code",
   "execution_count": 6,
   "metadata": {},
   "outputs": [],
   "source": [
    "# finding matrix product of the inverse of the within class scatter matrix and the between class scatter matrix\n",
    "req_matrix = np.matmul(np.linalg.inv(within_class_scatter_matrix), between_class_scatter_matrix)"
   ]
  },
  {
   "cell_type": "code",
   "execution_count": 7,
   "metadata": {},
   "outputs": [],
   "source": [
    "# computing the eigen values and eigen vectors of the matrix\n",
    "eigen_values, eigen_vectors = np.linalg.eig(req_matrix)\n",
    "# sorting the eigen values and eigen vectors in descending order\n",
    "indices = np.argsort(eigen_values)[::-1]\n",
    "eigen_values = eigen_values[indices]\n",
    "eigen_vectors = eigen_vectors[:,indices]\n",
    "# choosing the eigenvectors with the highest eigen value\n",
    "eigen_vectors = eigen_vectors[:,0:1]"
   ]
  },
  {
   "cell_type": "code",
   "execution_count": 8,
   "metadata": {},
   "outputs": [],
   "source": [
    "# projecting the data onto the new feature space\n",
    "# compute the matrix product of the chosen eigenvectors and the data\n",
    "X_train_lda = np.matmul(X_train, eigen_vectors)\n",
    "X_test_lda = np.matmul(X_test, eigen_vectors)\n"
   ]
  },
  {
   "cell_type": "code",
   "execution_count": 9,
   "metadata": {},
   "outputs": [
    {
     "data": {
      "text/html": [
       "<style>#sk-container-id-1 {color: black;background-color: white;}#sk-container-id-1 pre{padding: 0;}#sk-container-id-1 div.sk-toggleable {background-color: white;}#sk-container-id-1 label.sk-toggleable__label {cursor: pointer;display: block;width: 100%;margin-bottom: 0;padding: 0.3em;box-sizing: border-box;text-align: center;}#sk-container-id-1 label.sk-toggleable__label-arrow:before {content: \"▸\";float: left;margin-right: 0.25em;color: #696969;}#sk-container-id-1 label.sk-toggleable__label-arrow:hover:before {color: black;}#sk-container-id-1 div.sk-estimator:hover label.sk-toggleable__label-arrow:before {color: black;}#sk-container-id-1 div.sk-toggleable__content {max-height: 0;max-width: 0;overflow: hidden;text-align: left;background-color: #f0f8ff;}#sk-container-id-1 div.sk-toggleable__content pre {margin: 0.2em;color: black;border-radius: 0.25em;background-color: #f0f8ff;}#sk-container-id-1 input.sk-toggleable__control:checked~div.sk-toggleable__content {max-height: 200px;max-width: 100%;overflow: auto;}#sk-container-id-1 input.sk-toggleable__control:checked~label.sk-toggleable__label-arrow:before {content: \"▾\";}#sk-container-id-1 div.sk-estimator input.sk-toggleable__control:checked~label.sk-toggleable__label {background-color: #d4ebff;}#sk-container-id-1 div.sk-label input.sk-toggleable__control:checked~label.sk-toggleable__label {background-color: #d4ebff;}#sk-container-id-1 input.sk-hidden--visually {border: 0;clip: rect(1px 1px 1px 1px);clip: rect(1px, 1px, 1px, 1px);height: 1px;margin: -1px;overflow: hidden;padding: 0;position: absolute;width: 1px;}#sk-container-id-1 div.sk-estimator {font-family: monospace;background-color: #f0f8ff;border: 1px dotted black;border-radius: 0.25em;box-sizing: border-box;margin-bottom: 0.5em;}#sk-container-id-1 div.sk-estimator:hover {background-color: #d4ebff;}#sk-container-id-1 div.sk-parallel-item::after {content: \"\";width: 100%;border-bottom: 1px solid gray;flex-grow: 1;}#sk-container-id-1 div.sk-label:hover label.sk-toggleable__label {background-color: #d4ebff;}#sk-container-id-1 div.sk-serial::before {content: \"\";position: absolute;border-left: 1px solid gray;box-sizing: border-box;top: 0;bottom: 0;left: 50%;z-index: 0;}#sk-container-id-1 div.sk-serial {display: flex;flex-direction: column;align-items: center;background-color: white;padding-right: 0.2em;padding-left: 0.2em;position: relative;}#sk-container-id-1 div.sk-item {position: relative;z-index: 1;}#sk-container-id-1 div.sk-parallel {display: flex;align-items: stretch;justify-content: center;background-color: white;position: relative;}#sk-container-id-1 div.sk-item::before, #sk-container-id-1 div.sk-parallel-item::before {content: \"\";position: absolute;border-left: 1px solid gray;box-sizing: border-box;top: 0;bottom: 0;left: 50%;z-index: -1;}#sk-container-id-1 div.sk-parallel-item {display: flex;flex-direction: column;z-index: 1;position: relative;background-color: white;}#sk-container-id-1 div.sk-parallel-item:first-child::after {align-self: flex-end;width: 50%;}#sk-container-id-1 div.sk-parallel-item:last-child::after {align-self: flex-start;width: 50%;}#sk-container-id-1 div.sk-parallel-item:only-child::after {width: 0;}#sk-container-id-1 div.sk-dashed-wrapped {border: 1px dashed gray;margin: 0 0.4em 0.5em 0.4em;box-sizing: border-box;padding-bottom: 0.4em;background-color: white;}#sk-container-id-1 div.sk-label label {font-family: monospace;font-weight: bold;display: inline-block;line-height: 1.2em;}#sk-container-id-1 div.sk-label-container {text-align: center;}#sk-container-id-1 div.sk-container {/* jupyter's `normalize.less` sets `[hidden] { display: none; }` but bootstrap.min.css set `[hidden] { display: none !important; }` so we also need the `!important` here to be able to override the default hidden behavior on the sphinx rendered scikit-learn.org. See: https://github.com/scikit-learn/scikit-learn/issues/21755 */display: inline-block !important;position: relative;}#sk-container-id-1 div.sk-text-repr-fallback {display: none;}</style><div id=\"sk-container-id-1\" class=\"sk-top-container\"><div class=\"sk-text-repr-fallback\"><pre>KNeighborsClassifier()</pre><b>In a Jupyter environment, please rerun this cell to show the HTML representation or trust the notebook. <br />On GitHub, the HTML representation is unable to render, please try loading this page with nbviewer.org.</b></div><div class=\"sk-container\" hidden><div class=\"sk-item\"><div class=\"sk-estimator sk-toggleable\"><input class=\"sk-toggleable__control sk-hidden--visually\" id=\"sk-estimator-id-1\" type=\"checkbox\" checked><label for=\"sk-estimator-id-1\" class=\"sk-toggleable__label sk-toggleable__label-arrow\">KNeighborsClassifier</label><div class=\"sk-toggleable__content\"><pre>KNeighborsClassifier()</pre></div></div></div></div></div>"
      ],
      "text/plain": [
       "KNeighborsClassifier()"
      ]
     },
     "execution_count": 9,
     "metadata": {},
     "output_type": "execute_result"
    }
   ],
   "source": [
    "from sklearn.neighbors import KNeighborsClassifier\n",
    "from sklearn.metrics import accuracy_score\n",
    "# instantiating the number of neighbors\n",
    "k = 5\n",
    "# instantiating the KNN classifier\n",
    "knn = KNeighborsClassifier(n_neighbors=k)\n",
    "# fitting the model\n",
    "Y_train = Y_train.astype('int')\n",
    "knn.fit(X_train_lda, Y_train)\n"
   ]
  },
  {
   "cell_type": "code",
   "execution_count": 10,
   "metadata": {},
   "outputs": [
    {
     "name": "stdout",
     "output_type": "stream",
     "text": [
      "Accuracy of the model with the pre-processing step of LDA is:  100.0 %\n"
     ]
    }
   ],
   "source": [
    "# predicting the values\n",
    "Y_pred = knn.predict(X_test_lda)\n",
    "# calculate the accuracy of the model\n",
    "count = 0\n",
    "for i in range(len(Y_test)):\n",
    "    if (Y_test[i] == Y_pred[i]):\n",
    "        count+=1\n",
    "print(\"Accuracy of the model with the pre-processing step of LDA is: \", count/len(Y_test)*100 ,\"%\")\n",
    "accuracy_with_LDA = count/len(Y_test)*100\n"
   ]
  },
  {
   "attachments": {},
   "cell_type": "markdown",
   "metadata": {},
   "source": [
    "### K-Nearest Neighbor implemented without LDA pre-processing"
   ]
  },
  {
   "cell_type": "code",
   "execution_count": 11,
   "metadata": {},
   "outputs": [],
   "source": [
    "# Performing the k-nearest neighbor algorithm on the iris dataset without the preprocessing of the data using the linear discriminant analysis\n",
    "import numpy as np\n",
    "import pandas as pd\n",
    "from sklearn.model_selection import train_test_split\n",
    "\n",
    "# loading the dataset\n",
    "data = pd.read_csv('iris.csv')\n",
    "# converting the data into numpy array\n",
    "data = data.values\n",
    "# remove the first column of the data\n",
    "data = data[:,1:]\n",
    "# converting the string labels into integers\n",
    "for i in range(data.shape[0]):\n",
    "    if data[i,4] == 'Iris-setosa':\n",
    "        data[i,4] = 0\n",
    "    elif data[i,4] == 'Iris-versicolor':\n",
    "        data[i,4] = 1\n",
    "    else:\n",
    "        data[i,4] = 2\n",
    "# splitting the data into training and testing data\n",
    "X_train, X_test, Y_train, Y_test = train_test_split(data[:,0:4], data[:,4], test_size=0.2, random_state=2, stratify=data[:,4])"
   ]
  },
  {
   "cell_type": "code",
   "execution_count": 12,
   "metadata": {},
   "outputs": [
    {
     "name": "stdout",
     "output_type": "stream",
     "text": [
      "Accuracy of the model is:  96.66666666666667 %\n"
     ]
    }
   ],
   "source": [
    "# k represents the number of neighbors\n",
    "k = 5\n",
    "# instantiating the KNN classifier\n",
    "knn = KNeighborsClassifier(n_neighbors=k)\n",
    "# fitting the model\n",
    "Y_train = Y_train.astype('int')\n",
    "knn.fit(X_train, Y_train)\n",
    "# predicting the values\n",
    "Y_pred = knn.predict(X_test)\n",
    "# calculate the accuracy of the model\n",
    "count = 0\n",
    "for i in range(len(Y_test)):\n",
    "    if (Y_test[i] == Y_pred[i]):\n",
    "        count+=1\n",
    "print(\"Accuracy of the model is: \", count/len(Y_test)*100 ,\"%\")\n",
    "accuracy_without_LDA = count/len(Y_test)*100"
   ]
  },
  {
   "cell_type": "code",
   "execution_count": 13,
   "metadata": {},
   "outputs": [
    {
     "name": "stdout",
     "output_type": "stream",
     "text": [
      "Training size: 120 samples\n",
      "Test size: 30 samples\n",
      "Accuracy of the model with the pre-processing step of LDA is:  100.0 %\n",
      "Accuracy of the model is:  96.66666666666667 %\n"
     ]
    }
   ],
   "source": [
    "# Final accuracy of the model with and without the preprocessing step of LDA\n",
    "print(\"Training size: 120 samples\")\n",
    "print(\"Test size: 30 samples\")\n",
    "print(\"Accuracy of the model with the pre-processing step of LDA is: \", accuracy_with_LDA ,\"%\")\n",
    "print(\"Accuracy of the model is: \", accuracy_without_LDA ,\"%\")"
   ]
  }
 ],
 "metadata": {
  "kernelspec": {
   "display_name": "Python 3",
   "language": "python",
   "name": "python3"
  },
  "language_info": {
   "codemirror_mode": {
    "name": "ipython",
    "version": 3
   },
   "file_extension": ".py",
   "mimetype": "text/x-python",
   "name": "python",
   "nbconvert_exporter": "python",
   "pygments_lexer": "ipython3",
   "version": "3.10.1"
  },
  "orig_nbformat": 4
 },
 "nbformat": 4,
 "nbformat_minor": 2
}

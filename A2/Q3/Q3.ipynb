{
 "cells": [
  {
   "attachments": {},
   "cell_type": "markdown",
   "metadata": {},
   "source": [
    "### Normal Equation Approach for Logistic Regression on Binary Classification"
   ]
  },
  {
   "cell_type": "code",
   "execution_count": 10,
   "metadata": {},
   "outputs": [],
   "source": [
    "# read all the data from real_estate data set\n",
    "import pandas as pd\n",
    "import numpy as np\n",
    "import matplotlib.pyplot as plt\n",
    "from sklearn.model_selection import train_test_split\n",
    "\n",
    "# read the data\n",
    "df = pd.read_csv('real_estate.csv')\n",
    "# preparing the independent and the dependent variables of the data\n",
    "# the column 0 is the serial number of the data and it is not included in the independent variables\n",
    "X = df.iloc[:, 1:7].values\n",
    "Y = df.iloc[:, 7].values"
   ]
  },
  {
   "cell_type": "code",
   "execution_count": 11,
   "metadata": {},
   "outputs": [],
   "source": [
    "# split the data into training and testing data\n",
    "X_train, X_test, Y_train, Y_test = train_test_split(X,Y, test_size=0.2, random_state=78)"
   ]
  },
  {
   "cell_type": "code",
   "execution_count": 12,
   "metadata": {},
   "outputs": [
    {
     "name": "stdout",
     "output_type": "stream",
     "text": [
      "Mean Squared Error:  45.40813976772222\n",
      "Residual Sum of Squares:  3768.875600720944\n",
      "Total Sum of Squares:  15774.027951807228\n",
      "R2 Score:  0.7610708176608028\n"
     ]
    }
   ],
   "source": [
    "# computing the vector theta using the normal equation\n",
    "theta = np.linalg.inv(X_train.T.dot(X_train)).dot(X_train.T).dot(Y_train)\n",
    "# predicting the values of the test data using the theta computed\n",
    "Y_predicted = X_test.dot(theta)\n",
    "# calculating the mean squared error of the model using the predicted values and the test data\n",
    "mean_square_error = np.mean((Y_predicted - Y_test)**2)\n",
    "# calculating the residual sum of squares   \n",
    "residual_sum_of_squares = np.sum((Y_test - Y_predicted)**2)\n",
    "# calculating the total sum of squares\n",
    "total_sum_of_squares = np.sum((Y_test - np.mean(Y_test))**2)\n",
    "# calculating the R2 score of the model\n",
    "r2_score = 1 - (residual_sum_of_squares / total_sum_of_squares)\n",
    "# printing the values of the metrics of the model\n",
    "print('Mean Squared Error: ', mean_square_error)\n",
    "print('Residual Sum of Squares: ', residual_sum_of_squares)\n",
    "print('Total Sum of Squares: ', total_sum_of_squares)\n",
    "print('R2 Score: ', r2_score)"
   ]
  }
 ],
 "metadata": {
  "kernelspec": {
   "display_name": "Python 3",
   "language": "python",
   "name": "python3"
  },
  "language_info": {
   "codemirror_mode": {
    "name": "ipython",
    "version": 3
   },
   "file_extension": ".py",
   "mimetype": "text/x-python",
   "name": "python",
   "nbconvert_exporter": "python",
   "pygments_lexer": "ipython3",
   "version": "3.10.1"
  },
  "orig_nbformat": 4
 },
 "nbformat": 4,
 "nbformat_minor": 2
}
